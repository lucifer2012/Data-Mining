{
 "cells": [
  {
   "cell_type": "code",
   "execution_count": 1,
   "metadata": {
    "collapsed": true
   },
   "outputs": [],
   "source": [
    "import csv\n",
    "import matplotlib"
   ]
  },
  {
   "cell_type": "code",
   "execution_count": 2,
   "metadata": {
    "collapsed": false
   },
   "outputs": [],
   "source": [
    "whole = []\n",
    "with open('inpatient.csv', 'rb') as csvfile:\n",
    "    reader = csv.reader(csvfile)\n",
    "    for row in reader:\n",
    "        whole.append(row)"
   ]
  },
  {
   "cell_type": "code",
   "execution_count": 3,
   "metadata": {
    "collapsed": false
   },
   "outputs": [
    {
     "name": "stdout",
     "output_type": "stream",
     "text": [
      "163066\n"
     ]
    }
   ],
   "source": [
    "print len(whole)"
   ]
  },
  {
   "cell_type": "code",
   "execution_count": 4,
   "metadata": {
    "collapsed": false
   },
   "outputs": [
    {
     "name": "stdout",
     "output_type": "stream",
     "text": [
      "0 DRG Definition\n",
      "1 Provider Id\n",
      "2 Provider Name\n",
      "3 Provider Street Address\n",
      "4 Provider City\n",
      "5 Provider State\n",
      "6 Provider Zip Code\n",
      "7 Hospital Referral Region Description\n",
      "8  Total Discharges \n",
      "9  Average Covered Charges \n",
      "10  Average Total Payments \n",
      "11 Average Medicare Payments\n"
     ]
    }
   ],
   "source": [
    "for i in range(len(whole[0])):\n",
    "    print i, whole[0][i]"
   ]
  },
  {
   "cell_type": "code",
   "execution_count": 5,
   "metadata": {
    "collapsed": false
   },
   "outputs": [],
   "source": [
    "for i in range(1, len(whole)):\n",
    "    whole[i][9] = float(whole[i][9].strip('$'))"
   ]
  },
  {
   "cell_type": "code",
   "execution_count": 6,
   "metadata": {
    "collapsed": false
   },
   "outputs": [],
   "source": [
    "counts = dict()\n",
    "total = dict()\n",
    "for i in range(1, len(whole)):\n",
    "    if whole[i][0] not in counts.keys():\n",
    "        counts[whole[i][0]] = 1\n",
    "        total[whole[i][0]] = whole[i][9]\n",
    "    else:\n",
    "        counts[whole[i][0]] += 1\n",
    "        total[whole[i][0]] += whole[i][9]"
   ]
  },
  {
   "cell_type": "code",
   "execution_count": 7,
   "metadata": {
    "collapsed": false
   },
   "outputs": [
    {
     "name": "stdout",
     "output_type": "stream",
     "text": [
      "100\n"
     ]
    }
   ],
   "source": [
    "print len(counts)"
   ]
  },
  {
   "cell_type": "code",
   "execution_count": 8,
   "metadata": {
    "collapsed": false
   },
   "outputs": [],
   "source": [
    "averages = dict()\n",
    "for key in counts.keys():\n",
    "    averages[key] = total[key] / counts[key]"
   ]
  },
  {
   "cell_type": "code",
   "execution_count": 9,
   "metadata": {
    "collapsed": false
   },
   "outputs": [
    {
     "name": "stdout",
     "output_type": "stream",
     "text": [
      "30481.9849212\n"
     ]
    }
   ],
   "source": [
    "print averages[whole[1][0]]"
   ]
  },
  {
   "cell_type": "code",
   "execution_count": 10,
   "metadata": {
    "collapsed": false
   },
   "outputs": [],
   "source": [
    "for i in range(1,len(whole)):\n",
    "    #print whole[i][9], \n",
    "    whole[i].append(whole[i][9] / averages[whole[i][0]])"
   ]
  },
  {
   "cell_type": "code",
   "execution_count": 11,
   "metadata": {
    "collapsed": false
   },
   "outputs": [
    {
     "name": "stdout",
     "output_type": "stream",
     "text": [
      "163066\n"
     ]
    }
   ],
   "source": [
    "print len(whole)"
   ]
  },
  {
   "cell_type": "code",
   "execution_count": 12,
   "metadata": {
    "collapsed": false
   },
   "outputs": [],
   "source": [
    "hospitals = []\n",
    "appearances = []\n",
    "for i in range(1, len(whole)):\n",
    "    tmp = []\n",
    "    for j in range(2, 7):\n",
    "        tmp.append(whole[i][j])\n",
    "    hospitals.append(tmp)"
   ]
  },
  {
   "cell_type": "code",
   "execution_count": 13,
   "metadata": {
    "collapsed": false
   },
   "outputs": [
    {
     "name": "stdout",
     "output_type": "stream",
     "text": [
      "163065\n"
     ]
    }
   ],
   "source": [
    "print len(hospitals)"
   ]
  },
  {
   "cell_type": "code",
   "execution_count": null,
   "metadata": {
    "collapsed": true
   },
   "outputs": [],
   "source": []
  },
  {
   "cell_type": "code",
   "execution_count": 14,
   "metadata": {
    "collapsed": false
   },
   "outputs": [],
   "source": [
    "drgCounts = dict()\n",
    "hosptlLevels = dict()\n",
    "tmp_file = whole[1:len(whole)]\n",
    "for i in range(len(tmp_file)):\n",
    "    if tmp_file[i][2] not in drgCounts.keys():\n",
    "        drgCounts[tmp_file[i][2]] = 1\n",
    "        hosptlLevels[tmp_file[i][2]] = tmp_file[i][12]\n",
    "    else:\n",
    "        drgCounts[tmp_file[i][2]] += 1\n",
    "        hosptlLevels[tmp_file[i][2]] += tmp_file[i][12]"
   ]
  },
  {
   "cell_type": "code",
   "execution_count": 15,
   "metadata": {
    "collapsed": false
   },
   "outputs": [
    {
     "name": "stdout",
     "output_type": "stream",
     "text": [
      "['SOUTHEAST ALABAMA MEDICAL CENTER', '1108 ROSS CLARK CIRCLE', 'DOTHAN', 'AL', '36301']\n"
     ]
    }
   ],
   "source": [
    "print hospitals[0]"
   ]
  },
  {
   "cell_type": "code",
   "execution_count": 16,
   "metadata": {
    "collapsed": false
   },
   "outputs": [],
   "source": [
    "for i in range(len(hospitals)):\n",
    "    hospitals[i].append(hosptlLevels[hospitals[i][0]] / drgCounts[hospitals[i][0]])"
   ]
  },
  {
   "cell_type": "code",
   "execution_count": 17,
   "metadata": {
    "collapsed": false
   },
   "outputs": [
    {
     "name": "stdout",
     "output_type": "stream",
     "text": [
      "163065\n",
      "3201\n"
     ]
    }
   ],
   "source": [
    "print len(hospitals)\n",
    "print len(hosptlLevels)"
   ]
  },
  {
   "cell_type": "code",
   "execution_count": 20,
   "metadata": {
    "collapsed": false
   },
   "outputs": [
    {
     "name": "stdout",
     "output_type": "stream",
     "text": [
      "['APPLETON MED CTR', '1818 N MEADE ST', 'APPLETON', 'WI', '54911', 0.38756808312197677]\n",
      "['WHEATON FRANCISCAN INC - ELMBROOK MEMORIAL', '19333 W NORTH AVE', 'BROOKFIELD', 'WI', '53045', 0.6872216926622811]\n",
      "['FROEDTERT MEM LUTHERAN HSPTL', '9200 W WISCONSIN AVE', 'MILWAUKEE', 'WI', '53226', 0.7712572830543074]\n",
      "['AURORA MED CTR KENOSHA', '10400 75TH ST', 'KENOSHA', 'WI', '53142', 0.9096530401197345]\n",
      "['CAMPBELL COUNTY MEMORIAL HOSPITAL', '501 SOUTH BURMA AVENUE', 'GILLETTE', 'WY', '82716', 0.7240927443604184]\n",
      "['WYOMING MEDICAL CENTER', '1233 EAST 2ND ST', 'CASPER', 'WY', '82601', 0.8663242219232745]\n",
      "['CHEYENNE REGIONAL MEDICAL CENTER', '214 EAST 23RD STREET', 'CHEYENNE', 'WY', '82001', 0.8687543645818485]\n",
      "['NORTH CYPRESS MEDICAL CENTER', '21214 NORTHWEST FREEWAY', 'CYPRESS', 'TX', '77429', 2.064443809203003]\n",
      "['SETON MEDICAL CENTER WILLIAMSON', '201 SETON PARKWAY', 'ROUND ROCK', 'TX', '78664', 1.410980559810774]\n",
      "['METHODIST STONE OAK HOSPITAL', '1139 E SONTERRA BLVD', 'SAN ANTONIO', 'TX', '78258', 1.216363050087913]\n",
      "['SETON MEDICAL CENTER HAYS', '6001 KYLE PKWY', 'KYLE', 'TX', '78640', 1.6682652697492706]\n",
      "['TEXAS REGIONAL MEDICAL CENTER AT SUNNYVALE', '231 SOUTH COLLINS ROAD', 'SUNNYVALE', 'TX', '75182', 1.4559064237765393]\n",
      "['TEXAS HEALTH PRESBYTERIAN HOSPITAL FLOWER MOUND', '4400 LONG PRAIRIE ROAD', 'FLOWER MOUND', 'TX', '75028', 1.1381412983435322]\n"
     ]
    }
   ],
   "source": [
    "for i in range(163052, len(hospitals)):\n",
    "    print hospitals[i]"
   ]
  },
  {
   "cell_type": "code",
   "execution_count": 18,
   "metadata": {
    "collapsed": false
   },
   "outputs": [],
   "source": [
    "writer = csv.writer(open(\"hospitalLevel\", \"w\"))\n",
    "#print len(hospitals)\n",
    "for row in hospitals:\n",
    "    writer.writerow(row)"
   ]
  },
  {
   "cell_type": "code",
   "execution_count": 19,
   "metadata": {
    "collapsed": false
   },
   "outputs": [],
   "source": [
    "writer = csv.writer(open(\"hospitalLevel_rest\", \"w\"))\n",
    "for i in range(163052, len(hospitals)):\n",
    "    writer.writerow(hospitals[i])"
   ]
  },
  {
   "cell_type": "code",
   "execution_count": null,
   "metadata": {
    "collapsed": true
   },
   "outputs": [],
   "source": []
  }
 ],
 "metadata": {
  "kernelspec": {
   "display_name": "Python 2",
   "language": "python",
   "name": "python2"
  },
  "language_info": {
   "codemirror_mode": {
    "name": "ipython",
    "version": 2
   },
   "file_extension": ".py",
   "mimetype": "text/x-python",
   "name": "python",
   "nbconvert_exporter": "python",
   "pygments_lexer": "ipython2",
   "version": "2.7.3"
  }
 },
 "nbformat": 4,
 "nbformat_minor": 0
}
